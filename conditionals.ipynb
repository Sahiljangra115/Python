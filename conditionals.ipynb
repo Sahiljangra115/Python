{
 "cells": [
  {
   "cell_type": "code",
   "execution_count": 1,
   "id": "61aca1eb",
   "metadata": {},
   "outputs": [
    {
     "name": "stdout",
     "output_type": "stream",
     "text": [
      "User is Child\n"
     ]
    }
   ],
   "source": [
    "Age = input(\"Give me your Age_i:\")\n",
    "Age_i = int(Age)\n",
    "if Age_i <= 13:\n",
    "    print(\"User is Child\")\n",
    "elif Age_i < 20:\n",
    "    print(\"user is a teenager\")\n",
    "elif Age_i < 60:\n",
    "    print(\"User is a adult\")\n",
    "else:\n",
    "    print(\"User is a Senior\")\n"
   ]
  },
  {
   "cell_type": "code",
   "execution_count": 25,
   "id": "bf8ca8eb",
   "metadata": {},
   "outputs": [
    {
     "name": "stdout",
     "output_type": "stream",
     "text": [
      "$10\n"
     ]
    }
   ],
   "source": [
    "# Movie ticket pricing\n",
    "Day = str(input(\"What's the day today\"))\n",
    "Age = int(input(\"what's your age\"))\n",
    "if Day != \"Wednesday\" and Age >= 18:\n",
    "    Price = \"$12\"\n",
    "    print(Price)\n",
    "elif Day == \"Wednesday\" and Age >= 18:\n",
    "    Price = \"$10\"\n",
    "    print(Price)\n",
    "elif Day != \"Wednesday\" and Age < 18:\n",
    "    Price = \"$8\"\n",
    "    print(Price)\n",
    "else:\n",
    "    Price = \"$6\"\n",
    "    print(Price)"
   ]
  },
  {
   "cell_type": "code",
   "execution_count": 27,
   "id": "a5b67f09",
   "metadata": {},
   "outputs": [
    {
     "name": "stdout",
     "output_type": "stream",
     "text": [
      "Please specify the color\n"
     ]
    }
   ],
   "source": [
    "Color = str(input(\"What's the color of your fruit:\").lower())\n",
    "if Color == \"green\":\n",
    "    print(\"Unripe\")\n",
    "elif Color == \"yellow\":\n",
    "    print(\"Ripe\")\n",
    "elif Color == \"brown\":\n",
    "    print(\"Overripe\")\n",
    "else:\n",
    "    print(\"Please specify the color\")"
   ]
  },
  {
   "cell_type": "code",
   "execution_count": 38,
   "id": "5e3771d9",
   "metadata": {},
   "outputs": [
    {
     "name": "stdout",
     "output_type": "stream",
     "text": [
      "[1, 2, 3, 4, 5, 6, 7, 8, 9, 11, 22, 17, 313, 14, 42, 24, 48]\n"
     ]
    }
   ],
   "source": [
    "#You have a list of integers. Remove all the odd numbers from the list only if the list has more odd numbers than even numbers. Otherwise, do nothing.\n",
    "\n",
    "odd_num = 0\n",
    "even_num = 0\n",
    "num = [1,2,3,4,5,6,7,8,9,11,22,17,313,14,42,24,48]\n",
    "for numbers in num:\n",
    "    if numbers%2 != 0:\n",
    "        odd_num += 1\n",
    "    else:\n",
    "        even_num += 1\n",
    "    \n",
    "if odd_num > even_num:\n",
    "    num = [n for n in num if n%2 == 0] # it's like a loop and conditional inside the list\n",
    "    print(num)\n",
    "else:\n",
    "    print(num)\n",
    "    "
   ]
  },
  {
   "cell_type": "code",
   "execution_count": 53,
   "id": "9315f8eb",
   "metadata": {},
   "outputs": [
    {
     "name": "stdout",
     "output_type": "stream",
     "text": [
      "Mira\n"
     ]
    }
   ],
   "source": [
    "#If any player has scored more than 50, print the name of the player with the highest score (even if multiple people are over 50, only print the one with the highest). Else, print \"No winners\".\n",
    "\n",
    "players = {\n",
    "    'Sahil': 42,\n",
    "    'Jiya': 67,\n",
    "    'Rehan': 50,\n",
    "    'Mira': 77,\n",
    "    'Arjun': 38\n",
    "}\n",
    "\n",
    "best_player = max(players, key=players.get)\n",
    "\n",
    "if players[best_player] > 50 :\n",
    "        print(best_player)\n",
    "        \n",
    "else:\n",
    "        print(\"No winners\")\n",
    "        \n"
   ]
  },
  {
   "cell_type": "code",
   "execution_count": 57,
   "id": "3fcb4769",
   "metadata": {},
   "outputs": [
    {
     "name": "stdout",
     "output_type": "stream",
     "text": [
      "['Anna', 'dog', 'egg', 'hi']\n"
     ]
    }
   ],
   "source": [
    "#You have a list of strings. Remove any string that: is shorter than 3 characters, or starts and ends with the same letter (case-insensitive), andcontains a vowel.\n",
    "words = [\"Anna\", \"dog\", \"egg\", \"hi\", \"Oo\"]\n",
    "for word in words:\n",
    "    if len(word) < 3:\n",
    "         words.pop()\n",
    "print(words)\n",
    "\n"
   ]
  }
 ],
 "metadata": {
  "kernelspec": {
   "display_name": "Python 3",
   "language": "python",
   "name": "python3"
  },
  "language_info": {
   "codemirror_mode": {
    "name": "ipython",
    "version": 3
   },
   "file_extension": ".py",
   "mimetype": "text/x-python",
   "name": "python",
   "nbconvert_exporter": "python",
   "pygments_lexer": "ipython3",
   "version": "3.13.3"
  }
 },
 "nbformat": 4,
 "nbformat_minor": 5
}
