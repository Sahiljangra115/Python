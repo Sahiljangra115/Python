{
 "cells": [
  {
   "cell_type": "markdown",
   "id": "349ee534",
   "metadata": {},
   "source": [
    "<!-- Write a Python program that performs the following operations and prints the results\n",
    "Addition\n",
    "Subtraction\n",
    "Multiplication\n",
    "Division (float result)\n",
    "Floor Division (integer result)\n",
    "Modulus (remainder) -->\n"
   ]
  },
  {
   "cell_type": "code",
   "execution_count": 1,
   "id": "e056b892",
   "metadata": {},
   "outputs": [
    {
     "name": "stdout",
     "output_type": "stream",
     "text": [
      "15\n",
      "5\n",
      "50\n",
      "2.0\n",
      "2\n",
      "0\n"
     ]
    }
   ],
   "source": [
    "import math\n",
    "a = 10 \n",
    "b = 5\n",
    "print(a + b)\n",
    "print(a - b)\n",
    "print(a * b)\n",
    "print(a / b)\n",
    "print(math.floor(a / b))\n",
    "print(a % b)"
   ]
  },
  {
   "cell_type": "code",
   "execution_count": null,
   "id": "a1b62c6a",
   "metadata": {},
   "outputs": [],
   "source": [
    "min_temp = 40\n",
    "max_temp = 25\n",
    "\n",
    "# Write your code here\n",
    "temp = (min_temp, max_temp)\n",
    "min_temp, max_temp = 25, 40\n",
    "\n",
    "print(min_temp)\n",
    "print(max_temp)"
   ]
  },
  {
   "cell_type": "code",
   "execution_count": null,
   "id": "2968bd9b",
   "metadata": {},
   "outputs": [
    {
     "name": "stdout",
     "output_type": "stream",
     "text": [
      "['apples', 'bananas', 'milk']\n",
      "['apples', 'bananas', 'milk', 'bread']\n",
      "['ketchup', 'apples', 'bananas', 'milk', 'bread']\n",
      "['ketchup', 'apples', 'milk', 'bread']\n",
      "bread\n",
      "['ketchup', 'apples', 'milk', 'rice', 'butter']\n",
      "['apples', 'butter', 'ketchup', 'milk', 'rice']\n",
      "['rice', 'milk', 'ketchup', 'butter', 'apples']\n",
      "['rice', 'milk', 'ketchup', 'butter', 'apples', 'juice', 'jam']\n",
      "['rice', 'milk', 'ketchup', 'butter', 'apples', 'juice', 'jam', 'rice', 'milk', 'ketchup', 'butter', 'apples', 'juice', 'jam']\n",
      "['t', 'o', 'm', 'a', 't', 'o', ' ', 'c', 'u', 'c', 'u', 'm', 'b', 'e', 'r', ' ', 's', 'p', 'i', 'n', 'a', 'c', 'h']\n"
     ]
    }
   ],
   "source": [
    "# Shopping List\n",
    "\n",
    "# You’re building a shopping list feature in a grocery app. You need to support various list operations such as adding items, removing them, merging with others, and handling user inputs from text.\n",
    "\n",
    "# Tasks:\n",
    "\n",
    "#     Create a grocery list named my_cart with the items: \"apples\", \"bananas\", and \"milk\"\n",
    "\n",
    "#     Print the grocery list.\n",
    "\n",
    "#     Add \"bread\" to the end of the list.\n",
    "\n",
    "#     Print the updated grocery list.\n",
    "\n",
    "#     Insert \"ketchup\" at the beginning of the list.\n",
    "\n",
    "#     Print the updated grocery list.\n",
    "\n",
    "#     Remove \"bananas\" from the list.\n",
    "\n",
    "#     Print the updated grocery list.\n",
    "\n",
    "#     Remove the last item from the list and store it in a variable named removed_item.\n",
    "\n",
    "#     Print the value of removed_item.\n",
    "\n",
    "#     Extend the grocery list by adding \"rice\" and \"butter\".\n",
    "\n",
    "#     Print the updated grocery list.\n",
    "\n",
    "#     Sort the grocery list in alphabetical order.\n",
    "\n",
    "#     Print the updated grocery list.\n",
    "\n",
    "#     Reverse the order of the grocery list.\n",
    "\n",
    "#     Print the updated grocery list.\n",
    "\n",
    "#     Concatenate the grocery list with another list containing \"juice\" and \"jam\".\n",
    "\n",
    "#     Print the resulting list.\n",
    "\n",
    "#     Duplicate the grocery list twice.\n",
    "\n",
    "#     Print the resulting list.\n",
    "\n",
    "#     Define a string with the value \"tomato cucumber spinach\" and convert it into a list.\n",
    "\n",
    "#     Print the converted list.\n",
    "\n",
    "my_cart = [\"apples\", \"bananas\", \"milk\"]\n",
    "print(my_cart)\n",
    "my_cart.append(\"bread\")\n",
    "print(my_cart)\n",
    "my_cart.insert(0, \"ketchup\")\n",
    "print(my_cart)\n",
    "my_cart.remove(\"bananas\")\n",
    "print(my_cart)\n",
    "remove_item = my_cart.pop()\n",
    "print(remove_item)\n",
    "my_cart.append(\"rice\")\n",
    "my_cart.append(\"butter\")\n",
    "print(my_cart)\n",
    "my_cart.sort()\n",
    "print(my_cart)\n",
    "my_cart.reverse()\n",
    "print(my_cart)\n",
    "another_cart = [\"juice\", \"jam\"]\n",
    "resultant_cart = my_cart + another_cart\n",
    "print(resultant_cart)\n",
    "print(resultant_cart * 2)\n",
    "a_string = \"tomato cucumber spinach\"\n",
    "string_list = list(a_string)\n",
    "print(string_list)"
   ]
  },
  {
   "cell_type": "code",
   "execution_count": null,
   "id": "56a95ee3",
   "metadata": {},
   "outputs": [
    {
     "name": "stdout",
     "output_type": "stream",
     "text": [
      "{'jam', 'butter', 'bread', 'milk'}\n",
      "{'bread', 'ketchup', 'butter', 'cheese'}\n",
      "{'jam', 'bread', 'milk', 'butter', 'cheese', 'ketchup'}\n",
      "{'bread', 'butter'}\n",
      "{'jam', 'milk'}\n",
      "False\n"
     ]
    }
   ],
   "source": [
    "# Managing Store Inventory\n",
    "\n",
    "# You’re managing product categories for a retail store. Your task is to identify:\n",
    "\n",
    "#     Which products are available in which branches\n",
    "\n",
    "#     What products are common\n",
    "\n",
    "#     What products are missing in each branch\n",
    "\n",
    "#     And which products should not be altered using frozenset\n",
    "\n",
    "# Tasks:\n",
    "\n",
    "#     Create a set branch_a_products with the items: \"bread\", \"milk\", \"butter\", \"jam\"\n",
    "\n",
    "#     Create another set branch_b_products with the items: \"bread\", \"cheese\", \"butter\", \"ketchup\"\n",
    "\n",
    "#     Print both sets.\n",
    "\n",
    "#     Find and print the union of both branches’ products.\n",
    "\n",
    "#     Find and print the intersection of both branches’ products.\n",
    "\n",
    "#     Find and print the products that are in branch_a_products but not in branch_b_products.\n",
    "\n",
    "#     Check whether \"ketchup\" is available in branch_a_products and print the result.\n",
    "\n",
    "#     Define a frozenset called essential_items with values: \"milk\", \"bread\", \"ketchup\".\n",
    "\n",
    "#     Print the frozenset.\n",
    "\n",
    "branch_a_products = {\"bread\", \"milk\", \"butter\", \"jam\"}\n",
    "branch_b_products = {\"bread\", \"cheese\", \"butter\", \"ketchup\"}\n",
    "print(branch_a_products)\n",
    "print(branch_b_products)\n",
    "print(branch_a_products | branch_b_products)\n",
    "print(branch_a_products & branch_b_products)\n",
    "print(branch_a_products - branch_b_products)\n",
    "print(\"ketchup\" in branch_a_products)\n",
    "essential_items = frozenset({\"milk\", \"bread\", \"ketchup\"})\n",
    "print(essential_items)\n"
   ]
  },
  {
   "cell_type": "code",
   "execution_count": null,
   "id": "8e6e8eae",
   "metadata": {},
   "outputs": [
    {
     "name": "stdout",
     "output_type": "stream",
     "text": [
      "{'name': 'John Doe', 'age': 32, 'city': 'New York'}\n",
      "John Doe\n",
      "New York\n",
      "True\n",
      "{'name': 'John Doe', 'city': 'New York', 'email': '', 'phone': ''}\n",
      "{'name': 'John Doe', 'city': 'New York', 'email': '', 'phone': ''}\n",
      "('phone', '')\n",
      "None\n",
      "{'name': 'John Doe', 'city': 'New York', 'email': '', 'address': '221B Baker Street'}\n"
     ]
    }
   ],
   "source": [
    "# Customer Profile Management\n",
    "\n",
    "# You are building a customer profile manager for a CRM (Customer Relationship Management) system. You need to store and manipulate customer data using Python dictionaries.\n",
    "\n",
    "# Tasks:\n",
    "\n",
    "#     Create a dictionary named customer with the following fields:\n",
    "#         \"name\": \"John Doe\"\n",
    "#         \"age\": 32\n",
    "#         \"city\": \"New York\"\n",
    "#         Print the dictionary.\n",
    "#     Add \"email\" and \"phone\" to the dictionary.\n",
    "#     Print the updated dictionary.\n",
    "#     Print the customer’s \"name\" and \"city\" values.\n",
    "#     Check whether the key \"email\" exists in the dictionary and print the result.\n",
    "#     Delete the \"age\" field from the dictionary.\n",
    "#     Print the updated dictionary.\n",
    "#     Print all dictionary keys, values, and items.\n",
    "#     Remove and print the last inserted key-value pair.\n",
    "#     Use .get() to access the key \"membership\" (which doesn’t exist).\n",
    "#     Print the result.\n",
    "#     Update the dictionary with a new field \"address\" set to \"221B Baker Street\".\n",
    "#     Print the final dictionary.\n",
    "customer = {\"name\":\"John Doe\", \"age\":32, \"city\":\"New York\"}\n",
    "print(customer)\n",
    "customer[\"email\"] = \"john.doe@example.com\"\n",
    "customer[\"phone\"] = \"123-456-7890\"\n",
    "print(customer.get(\"name\"))\n",
    "print(customer.get(\"city\"))\n",
    "print(\"email\" in customer)\n",
    "customer.pop(\"age\")\n",
    "print(customer)\n",
    "print(customer.keys())\n",
    "print(customer.values())\n",
    "print(customer.items())\n",
    "print(customer.popitem())\n",
    "print(customer.get(\"membership\"))\n",
    "customer[\"address\"] = \"221B Baker Street\"\n",
    "print(customer)\n",
    "\n",
    "\n"
   ]
  },
  {
   "cell_type": "code",
   "execution_count": null,
   "id": "568b87a4",
   "metadata": {},
   "outputs": [],
   "source": [
    "# Customer Discount Eligibility\n",
    "# You’re building a logic module for a billing system. Based on customer data, you need to evaluate whether they are eligible for a discount or a senior citizen privilege using if statements.\n",
    "# Tasks:\n",
    "#     Create three variables:\n",
    "#         customer_name = \"Amit\"\n",
    "#         customer_age = 24\n",
    "#         total_purchase = 1200\n",
    "#     If total_purchase is greater than 1000, print \"Eligible for discount\".\n",
    "#     If customer_age is greater than or equal to 60, print \"Senior Citizen\".\n",
    "\n",
    "customer_name = \"Amit\"\n",
    "customer_age = 24\n",
    "total_purchase = 1200\n",
    "if total_purchase > 1000:\n",
    "    print(\"Eligible for discount\")\n",
    "if customer_age >= 60:\n",
    "    print(\"Senior citizen\")"
   ]
  },
  {
   "cell_type": "code",
   "execution_count": 23,
   "id": "6dd75dff",
   "metadata": {},
   "outputs": [
    {
     "name": "stdout",
     "output_type": "stream",
     "text": [
      "You get a free dessert!\n"
     ]
    }
   ],
   "source": [
    "# Restaurant Billing System\n",
    "# You’re designing a billing system for a restaurant. Depending on the total bill amount entered by the customer, they might get a free dessert.\n",
    "\n",
    "# Tasks:\n",
    "#     Ask the user to enter their total bill amount. Store it in a variable named bill_amount\n",
    "#     If the bill amount is greater than 500, return the string \"You get a free dessert!\"\n",
    "#     Otherwise, return the string: \"No free dessert this time.\"\n",
    "\n",
    "bill_amount = int(input(\"Enter the bill amount\"))\n",
    "if bill_amount > 500:\n",
    "    print(\"You get a free dessert!\")\n",
    "else:\n",
    "    print(\"No free dessert this time\")"
   ]
  },
  {
   "cell_type": "code",
   "execution_count": null,
   "id": "40309601",
   "metadata": {},
   "outputs": [],
   "source": [
    "# Delivery Charge Calculator\n",
    "# You’re building a delivery system for an e-commerce platform. Depending on the distance of the customer’s address, different delivery charges apply.\n",
    "# Tasks:\n",
    "#     Take input from the user for delivery distance in Kilometers and store it in a variable named distance.\n",
    "#     If the distance is 2 km or less, return the string: \"Delivery charge: 0\"\n",
    "#     If the distance is greater than 2 km but not more than 5 km, return the string: \"Delivery charge: 30\"\n",
    "#     If the distance is greater than 5 km but not more than 10 km, return the string: \"Delivery charge: 50\"\n",
    "#     If the distance is more than 10 km, return the string: \"Delivery not available for your location.\"\n",
    "\n",
    "def calculate_delivery_charge(distance: float) -> str:\n",
    "    if distance <= 2 :\n",
    "        return \"Delivery charge: 0\"\n",
    "    elif 2 < distance <= 5 :\n",
    "        return \"Delivery charge: 30\"\n",
    "    elif 5 < distance <= 10 :\n",
    "        return \"Delivery charge: 50\"\n",
    "    elif distance > 10 :\n",
    "        return \"Delivery not available for your location.\""
   ]
  },
  {
   "cell_type": "code",
   "execution_count": null,
   "id": "b8c92bbf",
   "metadata": {},
   "outputs": [],
   "source": [
    "# Loan Eligibility Checker\n",
    "# You’re building a basic loan eligibility checker for a bank. A customer must meet two conditions to be eligible:\n",
    "# Tasks:\n",
    "#     If the user’s age is 21 or above, check:\n",
    "#         If income is 25,000 Bucks or above, print: \"Eligible for loan\"\n",
    "#         Otherwise, print: \"Not eligible: Income too low\"\n",
    "#     If the user’s age is less than 21, print: \"Not eligible: Age must be 21 or above\"\n",
    "\n",
    "if age >= 21:\n",
    "    if income >=25000 :\n",
    "        return \"Eligible for loan\"\n",
    "    else:\n",
    "        return \"Not eligible: Income too low\"\n",
    "else:\n",
    "    return \"Not eligible: Age must be 21 or above\"\n",
    "\n"
   ]
  },
  {
   "cell_type": "code",
   "execution_count": null,
   "id": "253d3b22",
   "metadata": {},
   "outputs": [],
   "source": [
    "def multiplication_table(number: int) -> list[str]:\n",
    "    # Write your code below this line\n",
    "    for i in range(1, 11):\n",
    "        result = 2 * i\n",
    "        i += 1\n",
    "        print(result)\n",
    "    pass\n",
    "    print(result)"
   ]
  },
  {
   "cell_type": "code",
   "execution_count": null,
   "id": "6bfbeb29",
   "metadata": {},
   "outputs": [
    {
     "name": "stdout",
     "output_type": "stream",
     "text": [
      "0 : Radha\n",
      "1 : harivansh\n",
      "2 : radhavallabh\n",
      "3 : vrindavan\n"
     ]
    },
    {
     "data": {
      "text/plain": [
       "[(0, 'Radha'), (1, 'harivansh'), (2, 'radhavallabh'), (3, 'vrindavan')]"
      ]
     },
     "execution_count": 3,
     "metadata": {},
     "output_type": "execute_result"
    }
   ],
   "source": [
    "# Numbered Task List\n",
    "# You’re improving the UX of a task management app by numbering the user’s task list automatically.\n",
    "# Tasks:\n",
    "#     Define a function generate_numbered_tasks that takes a list of task names\n",
    "#     Use the enumerate() function to loop through the list with numbering starting from 1.\n",
    "#     Format each task as \"1. Task Name\" and return the final list.\n",
    "\n",
    "hit_upasana = [\"Radha\", \"harivansh\", \"radhavallabh\", \"vrindavan\"]\n",
    "for idx, item in enumerate(hit_upasana):\n",
    "    print(f\"{idx} : {item}\") \n",
    "\n",
    "\n",
    "#                                   Another method\n",
    "hit_upasana = [\"Radha\", \"harivansh\", \"radhavallabh\", \"vrindavan\"]\n",
    "list(enumerate(hit_upasana)) # it does not print anything implicitly you have to descrribe what you want to print(list(enumerate(hit_upasana)))\n",
    "#jupyter notebook itself prints the above statement without print()\n"
   ]
  },
  {
   "cell_type": "code",
   "execution_count": 5,
   "id": "35bacf3f",
   "metadata": {},
   "outputs": [],
   "source": [
    "integer = [1, 2, 3, 4]\n",
    "for i in integer :\n",
    "\n",
    "    pass\n"
   ]
  }
 ],
 "metadata": {
  "kernelspec": {
   "display_name": "Python 3",
   "language": "python",
   "name": "python3"
  },
  "language_info": {
   "codemirror_mode": {
    "name": "ipython",
    "version": 3
   },
   "file_extension": ".py",
   "mimetype": "text/x-python",
   "name": "python",
   "nbconvert_exporter": "python",
   "pygments_lexer": "ipython3",
   "version": "3.13.3"
  }
 },
 "nbformat": 4,
 "nbformat_minor": 5
}
