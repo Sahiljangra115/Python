{
 "cells": [
  {
   "cell_type": "markdown",
   "id": "3af87b56",
   "metadata": {},
   "source": [
    "#                                                                  --- ENUMERATE() ---"
   ]
  },
  {
   "cell_type": "code",
   "execution_count": null,
   "id": "4895ce8f",
   "metadata": {},
   "outputs": [],
   "source": [
    "# Numbered Task List\n",
    "# You’re improving the UX of a task management app by numbering the user’s task list automatically.\n",
    "# Tasks:\n",
    "#     Define a function generate_numbered_tasks that takes a list of task names\n",
    "#     Use the enumerate() function to loop through the list with numbering starting from 1.\n",
    "#     Format each task as \"1. Task Name\" and return the final list.\n",
    "\n",
    "hit_upasana = [\"Radha\", \"harivansh\", \"radhavallabh\", \"vrindavan\"]\n",
    "for idx, item in enumerate(hit_upasana):\n",
    "    print(f\"{idx} : {item}\") \n",
    "\n",
    "\n",
    "#                                   Another method\n",
    "hit_upasana = [\"Radha\", \"harivansh\", \"radhavallabh\", \"vrindavan\"]\n",
    "list(enumerate(hit_upasana)) # it does not print anything implicitly you have to descrribe what you want to print(list(enumerate(hit_upasana)))\n",
    "#jupyter notebook itself prints the above statement without print()\n"
   ]
  },
  {
   "cell_type": "markdown",
   "id": "b77f75c3",
   "metadata": {},
   "source": [
    "#                                                                      --- ZIP() ---"
   ]
  },
  {
   "cell_type": "code",
   "execution_count": null,
   "id": "1acc896d",
   "metadata": {},
   "outputs": [],
   "source": [
    "# we use zip to iterate through many iteratable objects parallely\n",
    "hit_upasana = [\"Radha\", \"harivansh\", \"radhavallabh\", \"vrindavan\"]\n",
    "indexer = [1,2,3,4]\n",
    "for items in zip(hit_upasana, indexer):\n",
    "    print(items)"
   ]
  },
  {
   "cell_type": "code",
   "execution_count": null,
   "id": "75a4830b",
   "metadata": {},
   "outputs": [],
   "source": [
    "flavours = [\"Ginger\", \"Out of Stock\", \"Lemon\", \"Discontinued\", \"Tulsi\"]\n",
    "\n",
    "\n",
    "for flavour in flavours:\n",
    "    if flavour == \"Out of Stock\":\n",
    "        continue\n",
    "    if flavour == \"Discontinued\":\n",
    "        print(f\"{flavour} item found\")\n",
    "        break\n",
    "    print(f\"{flavour} item found\")\n",
    "    \n",
    "print(f\"Out side of loop\")"
   ]
  },
  {
   "cell_type": "markdown",
   "id": "44fea025",
   "metadata": {},
   "source": [
    "#                                                                         ---- FOR-ELSE ----\n",
    "\n",
    "In Python, a for-else works like this:\n",
    "    If the loop finishes without hitting a break, the else block runs.\n",
    "    If a break happens, the else is skipped"
   ]
  }
 ],
 "metadata": {
  "kernelspec": {
   "display_name": "Python 3",
   "language": "python",
   "name": "python3"
  },
  "language_info": {
   "codemirror_mode": {
    "name": "ipython",
    "version": 3
   },
   "file_extension": ".py",
   "mimetype": "text/x-python",
   "name": "python",
   "nbconvert_exporter": "python",
   "pygments_lexer": "ipython3",
   "version": "3.13.3"
  }
 },
 "nbformat": 4,
 "nbformat_minor": 5
}
