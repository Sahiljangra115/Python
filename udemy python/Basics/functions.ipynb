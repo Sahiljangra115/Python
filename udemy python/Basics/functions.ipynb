{
 "cells": [
  {
   "cell_type": "code",
   "execution_count": null,
   "id": "2d99caa0",
   "metadata": {},
   "outputs": [],
   "source": [
    "customer_name = [\"sahil\", \"vivek\", \"shashank\", \"rahul\"]        \n",
    "chai_type = [\"ginger\", \"lemon\", \"adrak\"]\n",
    "def print_order(a, b):\n",
    "    for name, type in zip(customer_name, chai_type):\n",
    "        print(f\"{name} has {type}\")\n",
    "print_order(customer_name, chai_type)\n"
   ]
  },
  {
   "cell_type": "markdown",
   "id": "82eb2b10",
   "metadata": {},
   "source": [
    "# ----------------  Always be very careful while Global keyword it can led to breakage of code\n",
    "# ----------------  Use it only when you are sure that you want to change the global variable"
   ]
  },
  {
   "cell_type": "code",
   "execution_count": null,
   "id": "fe7933b6",
   "metadata": {},
   "outputs": [],
   "source": [
    "# ----------------------------------------------------  Namescope or resolution -----------------------------------------\n",
    "\n",
    "# when a variable is outside the any function it is global scope else its a local scope of enclosed scope \n",
    "\n",
    "# ---------- we can access non- local variable with -------------- Nonlocal -> use it when you want to access from just above like in nested function  \n",
    "# ---------- we can access non-local variable with -------------- Global -> use it when you want to access from global (file) like normally from anywhere in the code.\n",
    "\n",
    "\n",
    "def serve_chai():\n",
    "    chai_type = \"Masala\" # local scope\n",
    "    print(f\"Inside function {chai_type}\")\n",
    "\n",
    "\n",
    "chai_type = \"Adrak\" # Global scope\n",
    "serve_chai()\n",
    "print(f\"Outside function: {chai_type}\")\n",
    "\n",
    "\n",
    "def chai_counter():\n",
    "    chai_order = \"lemon\" # Enclosing scope\n",
    "    def print_order():\n",
    "        nonlocal chai_order = \"Ginger\" # it will access the lemon ------------\n",
    "        global chai_order = \"Ginger\" # it will access the Tulsi   ------------\n",
    "        print(\"Inner:\", chai_order)\n",
    "    print_order()\n",
    "    print(\"Outer: \", chai_order)\n",
    "\n",
    "chai_order = \"Tulsi\" # Global\n",
    "chai_counter()\n",
    "print(\"Global :\", chai_order)"
   ]
  },
  {
   "cell_type": "code",
   "execution_count": null,
   "id": "f41e9672",
   "metadata": {},
   "outputs": [],
   "source": [
    "#-----------------------------------------------------------  FUNCTIONS -----------------------------------------------------------------------------\n",
    "# Student Grading System\n",
    "# You’re building an academic grading system.\n",
    "# Tasks:\n",
    "#     Define a function calculate_grade(score) that:\n",
    "#         Returns “A” for score ≥ 90\n",
    "#         “B” for ≥ 75\n",
    "#         “C” for ≥ 60\n",
    "#         “D” for ≥ 40\n",
    "#         “F” otherwise\n",
    "#     Define a second function generate_student_report(name, score) that:\n",
    "#         Uses the first function to determine the grade.\n",
    "#         Returns a report string like: \"Aman has scored80 and received grade B\"\n",
    "#     Write clean, reusable code using functions, conditions, and string formatting.\n",
    "\n",
    "def calculate_grade(score):\n",
    "    if score >= 90:\n",
    "        return \"A\"\n",
    "    elif score >= 75:\n",
    "        return \"B\"\n",
    "    elif score >= 60:\n",
    "        return \"C\"\n",
    "    elif score >= 40:\n",
    "        return \"D\"\n",
    "    else:\n",
    "        return \"F\"\n",
    "    \n",
    "def generate_student_report(name, score):\n",
    "    grade = calculate_grade(score)\n",
    "    return \"{name} has scored{score} and received grade {grade}\""
   ]
  },
  {
   "cell_type": "code",
   "execution_count": null,
   "id": "c860f970",
   "metadata": {},
   "outputs": [],
   "source": [
    "# Loyalty Points Tracker\n",
    "# You are building a Loyalty Points Tracker for a retail chain that rewards customers based on their spending. The tracker calculates the total transaction amount per customer and awards loyalty points accordingly. Some customers may also qualify for bonus points based on their total spending.\n",
    "\n",
    "# Your Tasks:\n",
    "# #     Global Loyalty Points:\n",
    "#     Define a global variable loyalty_points that keeps track of the total loyalty points earned by all customers.\n",
    "#     Create Function: process_transactions(transactions: list[int]) -> int\n",
    "#         Accept a list of transaction amounts from a single customer.\n",
    "#         Initialize a local variable total to store the sum of all the customer’s transactions.\n",
    "#     Nested Bonus Logic:\n",
    "#         Define a nested function apply_bonus() inside process_transactions.\n",
    "#         If the total exceeds ₹1000, add a bonus of ₹50.\n",
    "#         Use the nonlocal keyword to modify the total from within the nested function.\n",
    "#     Point Calculation:\n",
    "\n",
    "loyalty_points = 0\n",
    "\n",
    "def process_transactions(transactions: list[int]) -> int:\n",
    "    global loyalty_points\n",
    "    total = sum(transactions)\n",
    "    def apply_bonus():\n",
    "        nonlocal total\n",
    "        if total > 1000:\n",
    "            total += 50\n",
    "    apply_bonus()\n",
    "    points_earned = total // 100\n",
    "    loyalty_points += points_earned\n",
    "    \n",
    "    return total"
   ]
  },
  {
   "cell_type": "markdown",
   "id": "59edf69f",
   "metadata": {},
   "source": [
    "# ---- the mutable datatypes can be changed by the function but immutable datatypes cannot be changed by the function"
   ]
  },
  {
   "cell_type": "code",
   "execution_count": null,
   "id": "a3b1bd1b",
   "metadata": {},
   "outputs": [],
   "source": [
    "\n",
    "def modify_list(lst, strings):\n",
    "    lst.append(\"new_item\")\n",
    "    strings = \" modified\"\n",
    "\n",
    "\n",
    "example_list = [1, 2, 3]\n",
    "str = \"string\"\n",
    "modify_list(example_list, str)\n",
    "print(example_list,\"and\", str)  # Output: [1, 2, 3, 'new_item']\n",
    "\n",
    "\n",
    "def print_chai(tea, chai, juice):\n",
    "    print(tea, chai, juice)\n",
    "\n",
    "print_chai(\"masala\", \"ginger\", \"mango\") # these are positional args as we know the position of each of these in params\n",
    "print_chai(tea=\"kadak\", chai=\"adrak\", juice=\"orange\") # these are keywords args as we define the position of each args in params"
   ]
  },
  {
   "cell_type": "code",
   "execution_count": null,
   "id": "c5e1be73",
   "metadata": {},
   "outputs": [],
   "source": [
    "#  there are two more things which are \n",
    "#  *ARGS = when only arument is passeed without keyword like \"yes\", \"hello\" etc.  ---------> gives a TUPLE\n",
    "#  **KWARGS = when a keyword is assigned to each argument like name = \"Sahil\", Country =\"india\" ---------> gives a DICTIONARY\n",
    "\n",
    "def demo(*something, **something_else):\n",
    "    print(something, \" \", something_else)\n",
    "\n",
    "demo(\"yes\", \"hello\", name=\"Sahil\", country=\"India\")"
   ]
  },
  {
   "cell_type": "code",
   "execution_count": null,
   "id": "477633e9",
   "metadata": {},
   "outputs": [],
   "source": [
    "# --------------------------------    DEFAULT TRAP ---------------------------\n",
    "def chai_type(chai=[]):\n",
    "    chai.append(\"masala\")\n",
    "    print(chai)\n",
    "\n",
    "chai_type()\n",
    "chai_type()\n",
    "\n",
    "\n",
    "# -------  Above is a default trap as you can see in the output multiple run gives multiple values\n",
    "def chai_type(chai=None): # means no input is given \n",
    "    if chai is None:\n",
    "        chai = [] # if no input given then return empty list \n",
    "    print(chai) # else print the input value\n",
    "\n",
    "chai_type(4)\n",
    "chai_type()\n",
    "chai_type()\n",
    "# here we will not give multiple values"
   ]
  },
  {
   "cell_type": "code",
   "execution_count": null,
   "id": "261f0503",
   "metadata": {},
   "outputs": [],
   "source": [
    "#  reurning multiple values through return  statement\n",
    "\n",
    "def radhavallabh():\n",
    "    return 10, 20 ,30\n",
    "\n",
    "first, second, _ = radhavallabh() # here the _ is used to handle the extra value in case you donot want to use it anymore anywhere\n",
    "print(first) \n",
    "print(second) "
   ]
  },
  {
   "cell_type": "code",
   "execution_count": null,
   "id": "2af77233",
   "metadata": {},
   "outputs": [],
   "source": [
    "def vrindavan(now):\n",
    "    print(now)\n",
    "    if now == 0:\n",
    "        return \"Got ready, Let's  go\"\n",
    "    return (f\" not ready now it will take time\\n {vrindavan(now - 1)} \")   # it will call the function until above condition hits\n",
    "\n",
    "number_of_visits = 3\n",
    "\n",
    "result = vrindavan(number_of_visits)\n",
    "print(result)\n",
    "# remember after hitting the return statement function do not runs anymore"
   ]
  },
  {
   "cell_type": "markdown",
   "id": "0cf4dac4",
   "metadata": {},
   "source": [
    "#  =================================    LAMBDA FUNCTIONS    =========================================="
   ]
  },
  {
   "cell_type": "code",
   "execution_count": null,
   "id": "14c39a91",
   "metadata": {},
   "outputs": [
    {
     "name": "stdout",
     "output_type": "stream",
     "text": [
      "[1, 2, 3, 4, 5, 6, 0, 0]\n",
      "['Radha', 'Shyam', 'Kishori', 'Radhavallabh', 'Radha']\n"
     ]
    }
   ],
   "source": [
    "def vrindavan(now):\n",
    "    print(now)\n",
    "    if now == 0:\n",
    "        return \"Got ready, Let's  go\"\n",
    "    \n",
    "Hit = [\"Radha\", \"Shyam\", \"Kishori\", \"Radhavallabh\", \"Radha\"]\n",
    "count = [1, 2, 3, 4, 5, 6, 0 , 0]\n",
    "#filtered_output = list(filter(lambda upasana: upasana == \"Radha\", Hit))\n",
    "# Lambda is like a use and throw function it is used when we donot want to use a function again in the code\n",
    "filtered_output = list(filter(vrindavan(count), Hit))\n",
    "\n",
    "print(filtered_output)\n"
   ]
  },
  {
   "cell_type": "markdown",
   "id": "45497fbc",
   "metadata": {},
   "source": [
    "# -------------------------------------- Builtin functions --------------------------------------"
   ]
  },
  {
   "cell_type": "code",
   "execution_count": 5,
   "id": "63ba5217",
   "metadata": {},
   "outputs": [
    {
     "name": "stdout",
     "output_type": "stream",
     "text": [
      "return the first value or anything\n",
      "<code object radhavallabh at 0x7f053421ef10, file \"/tmp/ipykernel_58351/2865366154.py\", line 1>\n",
      "Help on built-in function len in module builtins:\n",
      "\n",
      "len(obj, /)\n",
      "    Return the number of items in a container.\n",
      "\n"
     ]
    }
   ],
   "source": [
    "def radhavallabh():\n",
    "    '''return the first value or anything''' # \"\"\"these commas are also used \"\"\"\n",
    "     # remember that it should be the first line in the function after this all line of function comes\n",
    "# after adding the above line we can get many builtin properties access like (DUNDER)\n",
    "    print(\"Radha\")\n",
    "\n",
    "print(radhavallabh.__doc__)\n",
    "print(radhavallabh.__code__) # Dunder is the __something__ this is called Dunder something in python world.\n",
    "\n",
    "# there is a buiiltin called \n",
    "help(len)"
   ]
  }
 ],
 "metadata": {
  "kernelspec": {
   "display_name": "Python 3",
   "language": "python",
   "name": "python3"
  },
  "language_info": {
   "codemirror_mode": {
    "name": "ipython",
    "version": 3
   },
   "file_extension": ".py",
   "mimetype": "text/x-python",
   "name": "python",
   "nbconvert_exporter": "python",
   "pygments_lexer": "ipython3",
   "version": "3.13.5"
  }
 },
 "nbformat": 4,
 "nbformat_minor": 5
}
