{
 "cells": [
  {
   "cell_type": "code",
   "execution_count": null,
   "id": "f606737d",
   "metadata": {},
   "outputs": [
    {
     "name": "stdout",
     "output_type": "stream",
     "text": [
      "hello\n",
      "console.log(\"hello\")\n"
     ]
    }
   ],
   "source": [
    "print('hello')\n",
    "print('console.log(\"hello\")')"
   ]
  },
  {
   "cell_type": "code",
   "execution_count": 4,
   "id": "926c3986",
   "metadata": {},
   "outputs": [
    {
     "name": "stdout",
     "output_type": "stream",
     "text": [
      "4\n"
     ]
    }
   ],
   "source": [
    "def chai(n):\n",
    "    print(n)\n",
    "chai(4)\n",
    "\n"
   ]
  },
  {
   "cell_type": "markdown",
   "id": "e2ef15ee",
   "metadata": {},
   "source": [
    "Python compiles to bytecode(low level and platfrom independent)\n",
    "Python is an interpreted language\n",
    "format(extension) = .pyc(frozen binaries)   ===> __pycache__\n",
    "Byte code is not a Machine Code its python specific intpretation\n",
    "Types:\n",
    "cpython, jpython, ironpython, stackless, PyPy etc.\n",
    "\n",
    "\n",
    "\n",
    "IMMUTABLE AND MUTABLE:\n",
    "immutables means if a memory refrence is created for a immutable object now the value cannot be altered an another memory refrence is generated and variable point to that refrence.\n",
    "\n"
   ]
  },
  {
   "cell_type": "markdown",
   "id": "82661f5a",
   "metadata": {},
   "source": [
    "# Object Types / Data Types\n",
    "\n",
    "- Number : 1234, 3.1415, 3+4j, 0b111, Decimal(), Fraction()\n",
    "- String : 'spam', \"Bob's\", b'a\\x01c', u'sp\\xc4m'\n",
    "- List : [1, [2, 'three'], 4.5], list(range(10))\n",
    "- Tuple : (1, 'spam', 4, 'U'), tuple('spam'), namedtuple\n",
    "- Dictionary : {'food': 'spam', 'taste': 'yum'}, dict(hours=10)\n",
    "\n",
    "- Set : set('abc'), {'a', 'b', 'c'}\n",
    "\n",
    "- File : open('eggs.txt'), open(r'C:\\ham.bin', 'wb')\n",
    "\n",
    "- Boolean : True, False\n",
    "- None : None\n",
    "- Funtions, modules, classes\n",
    "\n",
    "- Advance: Decorators, Generators, Iterators, MetaProgramming"
   ]
  },
  {
   "cell_type": "markdown",
   "id": "a2822b43",
   "metadata": {},
   "source": [
    "### Interning in Python\n",
    "\n",
    "- Variables are bound to **references**, not data types.\n",
    "- For performance, Python **interns** small integers and short strings.\n",
    "- Interning means reusing objects instead of creating new ones for the same value.\n"
   ]
  },
  {
   "cell_type": "code",
   "execution_count": null,
   "id": "916c62b0",
   "metadata": {},
   "outputs": [],
   "source": [
    "# String indexing and slicing\n",
    "username = \"Hoonigan\"\n",
    "\n",
    "len(username)       # Get length\n",
    "username[0]         # First character\n",
    "username[-1]        # Last character\n",
    "username[0:3]       # Slicing from index 0 to 2\n",
    "\n",
    "# Strings are immutable\n",
    "# username[0] = 'A'  # ❌ This would raise an error\n",
    "\n",
    "# To change the first character:\n",
    "username = 'A' + username[1:]\n"
   ]
  },
  {
   "cell_type": "markdown",
   "id": "5053c2dc",
   "metadata": {},
   "source": [
    "### Mutable Behavior with Lists\n",
    "\n",
    "```python\n",
    "mylist = [2, 3, 4, 5]\n",
    "mylisttwo = mylist\n",
    "\n",
    "mylist[0] = 54\n",
    "print(mylisttwo)  # [54, 3, 4, 5]\n",
    "\n",
    "mylist = [57, 3, 4, 5]\n",
    "print(mylisttwo)  # [54, 3, 4, 5]\n"
   ]
  },
  {
   "cell_type": "markdown",
   "id": "004df7b8",
   "metadata": {},
   "source": [
    "\n",
    "\n",
    "a = [1, 2, 3]\n",
    "b = a\n",
    "print(b == a)  # True (values equal)\n",
    "print(b is a)  # True (same object)\n",
    "\n",
    "b = [1, 2, 3]\n",
    "print(b == a)  # True\n",
    "print(b is a)  # False (different objects)\n"
   ]
  },
  {
   "cell_type": "markdown",
   "id": "5a860206",
   "metadata": {},
   "source": [
    "mylist = [2, 3, 4, 5]\n",
    "\n",
    "# Shallow copy\n",
    "mylisttwo = mylist[:]\n",
    "\n",
    "# Deep copy\n",
    "import copy\n",
    "mylisttwo = copy.deepcopy(mylist)"
   ]
  },
  {
   "cell_type": "markdown",
   "id": "0bbbd6fa",
   "metadata": {},
   "source": [
    ">>> import math\n",
    ">>> math.floor(3.5) \n",
    "Here the floor function returns the largest integer less than or equal to x\n",
    "it's like you are on a same floor untill you climb the last stair to go to the next floor\n",
    "3\n",
    ">>> math.floor(3.9)\n",
    "3\n",
    ">>> math.floor(-3.9)\n",
    "-4\n",
    ">>> math.floor(-4.5)\n",
    "-5\n",
    ">>> math.trunc(3.5)\n",
    "Here the trunc function returns the integer part of x or you can say it returns the integer nearest to 0\n",
    "3\n",
    ">>> math.trunc(3.9)\n",
    "3\n",
    ">>> math.trunc(-3.9)\n",
    "-3"
   ]
  },
  {
   "cell_type": "markdown",
   "id": "a7f2344d",
   "metadata": {},
   "source": [
    "We can also handle imaginary numbers in python\n",
    ">>> 2 + 1j\n",
    "(2+1j)\n",
    ">>> 2 + 1j * 3\n",
    "(2+3j)\n",
    ">>> (2 + 1j) * 3\n",
    "(6+3j)"
   ]
  },
  {
   "cell_type": "markdown",
   "id": "07d9a0e2",
   "metadata": {},
   "source": [
    "We can also handle different bases in python\n",
    "- number such as (0o) for octal\n",
    "- number such as (0x) for hexadecimal\n",
    "- number such as (0b) for binary\n",
    ">>> 0o10    \n",
    "8\n",
    ">>> 0x10\n",
    "16\n",
    ">>> 0b10    \n",
    "2\n",
    "\n",
    ">>> oct(100)\n",
    "'0o144'\n",
    ">>> hex(100)\n",
    "'0x64'\n",
    ">>> bin(100)\n",
    "'0b1100100'\n",
    "\n",
    "We can also calculate through integer function\n",
    ">>> int('100',2)\n",
    "4\n",
    ">>> int('100',8)\n",
    "64\n",
    ">>> int('100',16)\n",
    "256\n",
    "\n",
    "We can also operate bitwise operations in python\n",
    "\n",
    ">>> x = 1\n",
    ">>> x << 2  # here we are shifting the bits to left by 2\n",
    "4 ===> (0001 << 2 = 0100)"
   ]
  },
  {
   "cell_type": "markdown",
   "id": "8cee7b6d",
   "metadata": {},
   "source": [
    ">>> 0.1 + 0.1 + 0.1\n",
    "0.30000000000000004\n",
    ">>> 0.1 + 0.1 + 0.4\n",
    "0.6000000000000001\n",
    ">>> 0.1 + 0.1 + 0.4 - 0.6\n",
    "1.1102230246251565e-16  # This should not be an answer \n",
    ">>> from decimal import Decimal\n",
    ">>> Decimal(0.1) + Decimal(0.1) + Decimal(0.4) - Decimal(0.6)\n",
    "Decimal('0.0')\n",
    ">>> Decimal(0.1) + Decimal(0.1) + Decimal(0.4)\n",
    "Decimal('0.0')"
   ]
  },
  {
   "cell_type": "markdown",
   "id": "783e814a",
   "metadata": {},
   "source": [
    "Let's talk little about sets\n",
    ">>> setone = {1, 2, 3, 4}\n",
    ">>> setone & {1, 7}\n",
    "& is used for intersection\n",
    "{1}\n",
    ">>> setone | {1, 7}\n",
    "| is used for union\n",
    "{1, 2, 3, 4, 7}\n",
    "\n",
    ">>> setone - {1, 2, 3, 4}\n",
    "set() Here we will never get an empty set and this is defining type for set\n",
    ">\n",
    "\n",
    ">> type ({})\n",
    "<class 'dict'>\n",
    ">>> type (())\n",
    "<class 'tuple'>\n",
    ">>> type (set())    \n",
    "<class 'set'>\n",
    ">>> type(True)\n",
    "<class 'bool'>\n",
    ">>> type(True)\n",
    "<class 'bool'>\n",
    "\n",
    "\n",
    ">>> True == 1\n",
    "True\n",
    ">>> False == 0\n",
    "True\n",
    ">>> True + 1\n",
    "2\n",
    "\n"
   ]
  }
 ],
 "metadata": {
  "kernelspec": {
   "display_name": "Python 3",
   "language": "python",
   "name": "python3"
  },
  "language_info": {
   "codemirror_mode": {
    "name": "ipython",
    "version": 3
   },
   "file_extension": ".py",
   "mimetype": "text/x-python",
   "name": "python",
   "nbconvert_exporter": "python",
   "pygments_lexer": "ipython3",
   "version": "3.13.3"
  }
 },
 "nbformat": 4,
 "nbformat_minor": 5
}
