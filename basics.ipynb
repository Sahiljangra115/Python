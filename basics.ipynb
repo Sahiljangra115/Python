{
 "cells": [
  {
   "cell_type": "code",
   "execution_count": 4,
   "id": "f606737d",
   "metadata": {},
   "outputs": [
    {
     "name": "stdout",
     "output_type": "stream",
     "text": [
      "hello\n",
      "console.log(\"hello\")\n"
     ]
    }
   ],
   "source": [
    "print('hello')\n",
    "print('console.log(\"hello\")')"
   ]
  },
  {
   "cell_type": "code",
   "execution_count": 2,
   "id": "926c3986",
   "metadata": {},
   "outputs": [
    {
     "name": "stdout",
     "output_type": "stream",
     "text": [
      "4\n",
      "Hoonigan\n",
      "Hoonigan\n"
     ]
    }
   ],
   "source": [
    "def chai(n):\n",
    "    print(n)\n",
    "chai(4)\n",
    "\n"
   ]
  },
  {
   "cell_type": "markdown",
   "id": "e2ef15ee",
   "metadata": {},
   "source": [
    "Python compiles to bytecode(low level and platfrom independent)\n",
    "Python is an interpreted language\n",
    "format(extension) = .pyc(frozen binaries)   ===> __pycache__\n",
    "Byte code is not a Machine Code its python specific intpretation\n",
    "Types:\n",
    "cpython, jpython, ironpython, stackless, PyPy etc.\n",
    "\n",
    "\n",
    "\n",
    "IMMUTABLE AND MUTABLE:\n",
    "immutables means if a memory refrence is created for a immutable object now the value cannot be altered an another memory refrence is generated and variable point to that refrence.\n",
    "\n"
   ]
  }
 ],
 "metadata": {
  "kernelspec": {
   "display_name": "Python 3",
   "language": "python",
   "name": "python3"
  },
  "language_info": {
   "codemirror_mode": {
    "name": "ipython",
    "version": 3
   },
   "file_extension": ".py",
   "mimetype": "text/x-python",
   "name": "python",
   "nbconvert_exporter": "python",
   "pygments_lexer": "ipython3",
   "version": "3.13.3"
  }
 },
 "nbformat": 4,
 "nbformat_minor": 5
}
