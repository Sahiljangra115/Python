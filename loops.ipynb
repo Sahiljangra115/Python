{
 "cells": [
  {
   "cell_type": "code",
   "execution_count": 2,
   "id": "ba396399",
   "metadata": {},
   "outputs": [
    {
     "name": "stdout",
     "output_type": "stream",
     "text": [
      "2\n"
     ]
    }
   ],
   "source": [
    "numbers = [1, -2, 3, -4, 5, 6, -7, -8, 9, 10]\n",
    "sum = 0\n",
    "for num in numbers:\n",
    "    if num%2 == 0:\n",
    "        sum += num\n",
    "print(sum)"
   ]
  },
  {
   "cell_type": "code",
   "execution_count": null,
   "id": "6f2d6546",
   "metadata": {},
   "outputs": [
    {
     "name": "stdout",
     "output_type": "stream",
     "text": [
      "6\n"
     ]
    }
   ],
   "source": [
    "# counting positive numbers\n",
    "numbers = [1, -2, 3, -4, 5, 6, -7, -8, 9, 10]\n",
    "count = 0\n",
    "for num in numbers:\n",
    "    if num >=0:\n",
    "        count += 1\n",
    "print(count)"
   ]
  },
  {
   "cell_type": "code",
   "execution_count": null,
   "id": "3e689452",
   "metadata": {},
   "outputs": [],
   "source": [
    "# multiplication table but skip 5th iteration\n",
    "number = 3\n",
    "Multiplication_table = [number * n \n",
    "                        for n in range(1,11)\n",
    "                          if n != 5 \n",
    "                         ]\n",
    "print(Multiplication_table)\n"
   ]
  },
  {
   "cell_type": "code",
   "execution_count": null,
   "id": "97f33b70",
   "metadata": {},
   "outputs": [],
   "source": [
    "numbers = [1, -2, 3, -4, 5, 6, -7, -8, 9, 10]\n",
    "for num in numbers:\n",
    "    if numbers != 5:\n",
    "        continue\n",
    "        print(\"continue\")\n",
    "print(numbers)\n"
   ]
  },
  {
   "cell_type": "code",
   "execution_count": null,
   "id": "deaa9ee4",
   "metadata": {},
   "outputs": [
    {
     "name": "stdout",
     "output_type": "stream",
     "text": [
      "['a', 'h', 'd', 'a', 'R']\n",
      "ahdaR\n"
     ]
    }
   ],
   "source": [
    "name = \"Radha\"\n",
    "name_list = [name[n] for n in range(len(name))]\n",
    "for index in name_list:\n",
    "    name_list.reverse()\n",
    "print(name_list)\n",
    "\n",
    "# there is one more method\n",
    "reversed_name = \"\"\n",
    "for char in name:\n",
    "    reversed_name = char + reversed_name\n",
    "    # in the above line something like this happens ===> R + \"\" , a +\"R\", d + \"aR\" and so on \n",
    "print(reversed_name)"
   ]
  },
  {
   "cell_type": "code",
   "execution_count": null,
   "id": "f128f458",
   "metadata": {},
   "outputs": [
    {
     "name": "stdout",
     "output_type": "stream",
     "text": [
      "R\n",
      "d\n",
      "v\n",
      "b\n"
     ]
    }
   ],
   "source": [
    "# first non-repeated char\n",
    "input = \"Radhavallabh\"\n",
    "for word in input:\n",
    "    if input.count(word) == 1:\n",
    "        print(word)\n",
    "        # break # only if first non-repeated is required\n",
    "        "
   ]
  },
  {
   "cell_type": "code",
   "execution_count": 53,
   "id": "ecafa83b",
   "metadata": {},
   "outputs": [
    {
     "name": "stdout",
     "output_type": "stream",
     "text": [
      "24\n"
     ]
    }
   ],
   "source": [
    "number = 4\n",
    "factorial = 1\n",
    "while number > 0:\n",
    "    factorial = factorial * number\n",
    "    number -= 1\n",
    "print(factorial)\n",
    "    \n",
    "    "
   ]
  },
  {
   "cell_type": "code",
   "execution_count": null,
   "id": "b9dc3d72",
   "metadata": {},
   "outputs": [
    {
     "ename": "TypeError",
     "evalue": "'str' object is not callable",
     "output_type": "error",
     "traceback": [
      "\u001b[31m---------------------------------------------------------------------------\u001b[39m",
      "\u001b[31mTypeError\u001b[39m                                 Traceback (most recent call last)",
      "\u001b[36mCell\u001b[39m\u001b[36m \u001b[39m\u001b[32mIn[71]\u001b[39m\u001b[32m, line 2\u001b[39m\n\u001b[32m      1\u001b[39m \u001b[38;5;28;01mwhile\u001b[39;00m \u001b[38;5;28;01mTrue\u001b[39;00m:\n\u001b[32m----> \u001b[39m\u001b[32m2\u001b[39m     user_inputs = \u001b[38;5;28mint\u001b[39m(\u001b[38;5;28;43minput\u001b[39;49m\u001b[43m(\u001b[49m\u001b[33;43m\"\u001b[39;49m\u001b[33;43mEnter a number (1-10): \u001b[39;49m\u001b[33;43m\"\u001b[39;49m\u001b[43m)\u001b[49m)\n\u001b[32m      3\u001b[39m     \u001b[38;5;28;01mif\u001b[39;00m \u001b[32m1\u001b[39m <= user_inputs <= \u001b[32m10\u001b[39m:\n\u001b[32m      4\u001b[39m         \u001b[38;5;28mprint\u001b[39m(\u001b[33m\"\u001b[39m\u001b[33mYou are good to go!\u001b[39m\u001b[33m\"\u001b[39m)\n",
      "\u001b[31mTypeError\u001b[39m: 'str' object is not callable"
     ]
    }
   ],
   "source": [
    "while True:\n",
    "    user_input = int(input(\"Enter a number (1-10): \"))\n",
    "    if 1 <= user_input <= 10:\n",
    "        print(\"You are good to go!\")\n",
    "        break\n",
    "    else:\n",
    "        print(\"Try again! That ain't in the 1–10 range.\")\n"
   ]
  }
 ],
 "metadata": {
  "kernelspec": {
   "display_name": "Python 3",
   "language": "python",
   "name": "python3"
  },
  "language_info": {
   "codemirror_mode": {
    "name": "ipython",
    "version": 3
   },
   "file_extension": ".py",
   "mimetype": "text/x-python",
   "name": "python",
   "nbconvert_exporter": "python",
   "pygments_lexer": "ipython3",
   "version": "3.13.3"
  }
 },
 "nbformat": 4,
 "nbformat_minor": 5
}
